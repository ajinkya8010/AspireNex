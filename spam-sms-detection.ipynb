{
 "cells": [
  {
   "cell_type": "markdown",
   "id": "f65b39cd",
   "metadata": {},
   "source": [
    "# SPAM SMS Prediction\n",
    "## Steps\n",
    "\n",
    "* Importing libraries\n",
    "* Data loading and preparing\n",
    "* Data pre-processing\n",
    "* Feature extraction techniques selection - TF-IDF\n",
    "* Model selection - Logistic regression\n",
    "* Model fitting\n",
    "* Model testing"
   ]
  },
  {
   "cell_type": "markdown",
   "id": "a34130bc",
   "metadata": {},
   "source": [
    "## Import libraries"
   ]
  },
  {
   "cell_type": "code",
   "execution_count": 13,
   "id": "ed2f332d",
   "metadata": {},
   "outputs": [],
   "source": [
    "import pandas as pd\n",
    "import numpy as np\n",
    "import re\n",
    "import string\n",
    "import nltk\n",
    "from sklearn.metrics import accuracy_score,confusion_matrix\n",
    "from sklearn.metrics import classification_report\n",
    "from sklearn.model_selection import train_test_split\n",
    "from sklearn.metrics import precision_score, recall_score, f1_score"
   ]
  },
  {
   "cell_type": "markdown",
   "id": "f450a359",
   "metadata": {},
   "source": [
    "## Import data"
   ]
  },
  {
   "cell_type": "code",
   "execution_count": 14,
   "id": "a892afc3",
   "metadata": {},
   "outputs": [
    {
     "data": {
      "text/html": [
       "<div>\n",
       "<style scoped>\n",
       "    .dataframe tbody tr th:only-of-type {\n",
       "        vertical-align: middle;\n",
       "    }\n",
       "\n",
       "    .dataframe tbody tr th {\n",
       "        vertical-align: top;\n",
       "    }\n",
       "\n",
       "    .dataframe thead th {\n",
       "        text-align: right;\n",
       "    }\n",
       "</style>\n",
       "<table border=\"1\" class=\"dataframe\">\n",
       "  <thead>\n",
       "    <tr style=\"text-align: right;\">\n",
       "      <th></th>\n",
       "      <th>v1</th>\n",
       "      <th>v2</th>\n",
       "      <th>Unnamed: 2</th>\n",
       "      <th>Unnamed: 3</th>\n",
       "      <th>Unnamed: 4</th>\n",
       "    </tr>\n",
       "  </thead>\n",
       "  <tbody>\n",
       "    <tr>\n",
       "      <th>0</th>\n",
       "      <td>ham</td>\n",
       "      <td>Go until jurong point, crazy.. Available only ...</td>\n",
       "      <td>NaN</td>\n",
       "      <td>NaN</td>\n",
       "      <td>NaN</td>\n",
       "    </tr>\n",
       "    <tr>\n",
       "      <th>1</th>\n",
       "      <td>ham</td>\n",
       "      <td>Ok lar... Joking wif u oni...</td>\n",
       "      <td>NaN</td>\n",
       "      <td>NaN</td>\n",
       "      <td>NaN</td>\n",
       "    </tr>\n",
       "    <tr>\n",
       "      <th>2</th>\n",
       "      <td>spam</td>\n",
       "      <td>Free entry in 2 a wkly comp to win FA Cup fina...</td>\n",
       "      <td>NaN</td>\n",
       "      <td>NaN</td>\n",
       "      <td>NaN</td>\n",
       "    </tr>\n",
       "    <tr>\n",
       "      <th>3</th>\n",
       "      <td>ham</td>\n",
       "      <td>U dun say so early hor... U c already then say...</td>\n",
       "      <td>NaN</td>\n",
       "      <td>NaN</td>\n",
       "      <td>NaN</td>\n",
       "    </tr>\n",
       "    <tr>\n",
       "      <th>4</th>\n",
       "      <td>ham</td>\n",
       "      <td>Nah I don't think he goes to usf, he lives aro...</td>\n",
       "      <td>NaN</td>\n",
       "      <td>NaN</td>\n",
       "      <td>NaN</td>\n",
       "    </tr>\n",
       "    <tr>\n",
       "      <th>...</th>\n",
       "      <td>...</td>\n",
       "      <td>...</td>\n",
       "      <td>...</td>\n",
       "      <td>...</td>\n",
       "      <td>...</td>\n",
       "    </tr>\n",
       "    <tr>\n",
       "      <th>995</th>\n",
       "      <td>ham</td>\n",
       "      <td>Change again... It's e one next to escalator...</td>\n",
       "      <td>NaN</td>\n",
       "      <td>NaN</td>\n",
       "      <td>NaN</td>\n",
       "    </tr>\n",
       "    <tr>\n",
       "      <th>996</th>\n",
       "      <td>ham</td>\n",
       "      <td>Yetunde i'm in class can you not run water on ...</td>\n",
       "      <td>NaN</td>\n",
       "      <td>NaN</td>\n",
       "      <td>NaN</td>\n",
       "    </tr>\n",
       "    <tr>\n",
       "      <th>997</th>\n",
       "      <td>ham</td>\n",
       "      <td>Not a lot has happened here. Feels very quiet....</td>\n",
       "      <td>NaN</td>\n",
       "      <td>NaN</td>\n",
       "      <td>NaN</td>\n",
       "    </tr>\n",
       "    <tr>\n",
       "      <th>998</th>\n",
       "      <td>ham</td>\n",
       "      <td>Then Ì_ wait 4 me at bus stop aft ur lect lar....</td>\n",
       "      <td>NaN</td>\n",
       "      <td>NaN</td>\n",
       "      <td>NaN</td>\n",
       "    </tr>\n",
       "    <tr>\n",
       "      <th>999</th>\n",
       "      <td>ham</td>\n",
       "      <td>Aight will do, thanks again for comin out</td>\n",
       "      <td>NaN</td>\n",
       "      <td>NaN</td>\n",
       "      <td>NaN</td>\n",
       "    </tr>\n",
       "  </tbody>\n",
       "</table>\n",
       "<p>1000 rows × 5 columns</p>\n",
       "</div>"
      ],
      "text/plain": [
       "       v1                                                 v2 Unnamed: 2  \\\n",
       "0     ham  Go until jurong point, crazy.. Available only ...        NaN   \n",
       "1     ham                      Ok lar... Joking wif u oni...        NaN   \n",
       "2    spam  Free entry in 2 a wkly comp to win FA Cup fina...        NaN   \n",
       "3     ham  U dun say so early hor... U c already then say...        NaN   \n",
       "4     ham  Nah I don't think he goes to usf, he lives aro...        NaN   \n",
       "..    ...                                                ...        ...   \n",
       "995   ham    Change again... It's e one next to escalator...        NaN   \n",
       "996   ham  Yetunde i'm in class can you not run water on ...        NaN   \n",
       "997   ham  Not a lot has happened here. Feels very quiet....        NaN   \n",
       "998   ham  Then Ì_ wait 4 me at bus stop aft ur lect lar....        NaN   \n",
       "999   ham          Aight will do, thanks again for comin out        NaN   \n",
       "\n",
       "    Unnamed: 3 Unnamed: 4  \n",
       "0          NaN        NaN  \n",
       "1          NaN        NaN  \n",
       "2          NaN        NaN  \n",
       "3          NaN        NaN  \n",
       "4          NaN        NaN  \n",
       "..         ...        ...  \n",
       "995        NaN        NaN  \n",
       "996        NaN        NaN  \n",
       "997        NaN        NaN  \n",
       "998        NaN        NaN  \n",
       "999        NaN        NaN  \n",
       "\n",
       "[1000 rows x 5 columns]"
      ]
     },
     "execution_count": 14,
     "metadata": {},
     "output_type": "execute_result"
    }
   ],
   "source": [
    "df_train = pd.read_csv(\"spam.csv\", encoding='ISO-8859-1')\n",
    "df_train.head(1000)\n"
   ]
  },
  {
   "cell_type": "code",
   "execution_count": 15,
   "id": "8a8e473f",
   "metadata": {},
   "outputs": [],
   "source": [
    "df_train = df_train.drop(['Unnamed: 2','Unnamed: 3','Unnamed: 4'],axis=1)"
   ]
  },
  {
   "cell_type": "code",
   "execution_count": 16,
   "id": "36d3785c",
   "metadata": {},
   "outputs": [
    {
     "data": {
      "text/html": [
       "<div>\n",
       "<style scoped>\n",
       "    .dataframe tbody tr th:only-of-type {\n",
       "        vertical-align: middle;\n",
       "    }\n",
       "\n",
       "    .dataframe tbody tr th {\n",
       "        vertical-align: top;\n",
       "    }\n",
       "\n",
       "    .dataframe thead th {\n",
       "        text-align: right;\n",
       "    }\n",
       "</style>\n",
       "<table border=\"1\" class=\"dataframe\">\n",
       "  <thead>\n",
       "    <tr style=\"text-align: right;\">\n",
       "      <th></th>\n",
       "      <th>v1</th>\n",
       "      <th>v2</th>\n",
       "    </tr>\n",
       "  </thead>\n",
       "  <tbody>\n",
       "    <tr>\n",
       "      <th>0</th>\n",
       "      <td>ham</td>\n",
       "      <td>Go until jurong point, crazy.. Available only ...</td>\n",
       "    </tr>\n",
       "    <tr>\n",
       "      <th>1</th>\n",
       "      <td>ham</td>\n",
       "      <td>Ok lar... Joking wif u oni...</td>\n",
       "    </tr>\n",
       "    <tr>\n",
       "      <th>2</th>\n",
       "      <td>spam</td>\n",
       "      <td>Free entry in 2 a wkly comp to win FA Cup fina...</td>\n",
       "    </tr>\n",
       "    <tr>\n",
       "      <th>3</th>\n",
       "      <td>ham</td>\n",
       "      <td>U dun say so early hor... U c already then say...</td>\n",
       "    </tr>\n",
       "    <tr>\n",
       "      <th>4</th>\n",
       "      <td>ham</td>\n",
       "      <td>Nah I don't think he goes to usf, he lives aro...</td>\n",
       "    </tr>\n",
       "    <tr>\n",
       "      <th>...</th>\n",
       "      <td>...</td>\n",
       "      <td>...</td>\n",
       "    </tr>\n",
       "    <tr>\n",
       "      <th>5567</th>\n",
       "      <td>spam</td>\n",
       "      <td>This is the 2nd time we have tried 2 contact u...</td>\n",
       "    </tr>\n",
       "    <tr>\n",
       "      <th>5568</th>\n",
       "      <td>ham</td>\n",
       "      <td>Will Ì_ b going to esplanade fr home?</td>\n",
       "    </tr>\n",
       "    <tr>\n",
       "      <th>5569</th>\n",
       "      <td>ham</td>\n",
       "      <td>Pity, * was in mood for that. So...any other s...</td>\n",
       "    </tr>\n",
       "    <tr>\n",
       "      <th>5570</th>\n",
       "      <td>ham</td>\n",
       "      <td>The guy did some bitching but I acted like i'd...</td>\n",
       "    </tr>\n",
       "    <tr>\n",
       "      <th>5571</th>\n",
       "      <td>ham</td>\n",
       "      <td>Rofl. Its true to its name</td>\n",
       "    </tr>\n",
       "  </tbody>\n",
       "</table>\n",
       "<p>5572 rows × 2 columns</p>\n",
       "</div>"
      ],
      "text/plain": [
       "        v1                                                 v2\n",
       "0      ham  Go until jurong point, crazy.. Available only ...\n",
       "1      ham                      Ok lar... Joking wif u oni...\n",
       "2     spam  Free entry in 2 a wkly comp to win FA Cup fina...\n",
       "3      ham  U dun say so early hor... U c already then say...\n",
       "4      ham  Nah I don't think he goes to usf, he lives aro...\n",
       "...    ...                                                ...\n",
       "5567  spam  This is the 2nd time we have tried 2 contact u...\n",
       "5568   ham              Will Ì_ b going to esplanade fr home?\n",
       "5569   ham  Pity, * was in mood for that. So...any other s...\n",
       "5570   ham  The guy did some bitching but I acted like i'd...\n",
       "5571   ham                         Rofl. Its true to its name\n",
       "\n",
       "[5572 rows x 2 columns]"
      ]
     },
     "execution_count": 16,
     "metadata": {},
     "output_type": "execute_result"
    }
   ],
   "source": [
    "df_train"
   ]
  },
  {
   "cell_type": "markdown",
   "id": "54040d4c",
   "metadata": {},
   "source": [
    "## EDA"
   ]
  },
  {
   "cell_type": "code",
   "execution_count": 17,
   "id": "84a51c71",
   "metadata": {},
   "outputs": [
    {
     "name": "stdout",
     "output_type": "stream",
     "text": [
      "<class 'pandas.core.frame.DataFrame'>\n",
      "RangeIndex: 5572 entries, 0 to 5571\n",
      "Data columns (total 2 columns):\n",
      " #   Column  Non-Null Count  Dtype \n",
      "---  ------  --------------  ----- \n",
      " 0   v1      5572 non-null   object\n",
      " 1   v2      5572 non-null   object\n",
      "dtypes: object(2)\n",
      "memory usage: 87.2+ KB\n"
     ]
    }
   ],
   "source": [
    "df_train.info()"
   ]
  },
  {
   "cell_type": "code",
   "execution_count": 18,
   "id": "5f3961e0",
   "metadata": {},
   "outputs": [
    {
     "data": {
      "text/plain": [
       "v1       2\n",
       "v2    5169\n",
       "dtype: int64"
      ]
     },
     "execution_count": 18,
     "metadata": {},
     "output_type": "execute_result"
    }
   ],
   "source": [
    "df_train.nunique()"
   ]
  },
  {
   "cell_type": "code",
   "execution_count": 19,
   "id": "b8185170",
   "metadata": {},
   "outputs": [
    {
     "data": {
      "text/plain": [
       "ham     4825\n",
       "spam     747\n",
       "Name: v1, dtype: int64"
      ]
     },
     "execution_count": 19,
     "metadata": {},
     "output_type": "execute_result"
    }
   ],
   "source": [
    "df_train['v1'].value_counts()"
   ]
  },
  {
   "cell_type": "markdown",
   "id": "94c00a32",
   "metadata": {},
   "source": [
    "#### There is an imbalance of data, we need to handle that"
   ]
  },
  {
   "cell_type": "code",
   "execution_count": 20,
   "id": "8fbd4015",
   "metadata": {},
   "outputs": [
    {
     "data": {
      "text/plain": [
       "403"
      ]
     },
     "execution_count": 20,
     "metadata": {},
     "output_type": "execute_result"
    }
   ],
   "source": [
    "df_train['v2'].duplicated().sum()"
   ]
  },
  {
   "cell_type": "code",
   "execution_count": 21,
   "id": "514faec4",
   "metadata": {},
   "outputs": [],
   "source": [
    "df_train = df_train.drop_duplicates(subset='v2')"
   ]
  },
  {
   "cell_type": "code",
   "execution_count": 22,
   "id": "33d7d273",
   "metadata": {},
   "outputs": [
    {
     "data": {
      "text/plain": [
       "0"
      ]
     },
     "execution_count": 22,
     "metadata": {},
     "output_type": "execute_result"
    }
   ],
   "source": [
    "df_train['v2'].duplicated().sum()"
   ]
  },
  {
   "cell_type": "code",
   "execution_count": 26,
   "id": "fd62b331",
   "metadata": {},
   "outputs": [
    {
     "name": "stderr",
     "output_type": "stream",
     "text": [
      "C:\\Users\\Ajinkya\\AppData\\Local\\Temp\\ipykernel_14116\\706978040.py:1: SettingWithCopyWarning: \n",
      "A value is trying to be set on a copy of a slice from a DataFrame.\n",
      "Try using .loc[row_indexer,col_indexer] = value instead\n",
      "\n",
      "See the caveats in the documentation: https://pandas.pydata.org/pandas-docs/stable/user_guide/indexing.html#returning-a-view-versus-a-copy\n",
      "  df_train['v1'] = df_train['v1'].map({'ham': 0, 'spam': 1})\n"
     ]
    },
    {
     "data": {
      "text/html": [
       "<div>\n",
       "<style scoped>\n",
       "    .dataframe tbody tr th:only-of-type {\n",
       "        vertical-align: middle;\n",
       "    }\n",
       "\n",
       "    .dataframe tbody tr th {\n",
       "        vertical-align: top;\n",
       "    }\n",
       "\n",
       "    .dataframe thead th {\n",
       "        text-align: right;\n",
       "    }\n",
       "</style>\n",
       "<table border=\"1\" class=\"dataframe\">\n",
       "  <thead>\n",
       "    <tr style=\"text-align: right;\">\n",
       "      <th></th>\n",
       "      <th>v1</th>\n",
       "      <th>v2</th>\n",
       "    </tr>\n",
       "  </thead>\n",
       "  <tbody>\n",
       "    <tr>\n",
       "      <th>0</th>\n",
       "      <td>0</td>\n",
       "      <td>Go until jurong point crazy Available only in ...</td>\n",
       "    </tr>\n",
       "    <tr>\n",
       "      <th>1</th>\n",
       "      <td>0</td>\n",
       "      <td>Ok lar Joking wif u oni</td>\n",
       "    </tr>\n",
       "    <tr>\n",
       "      <th>2</th>\n",
       "      <td>1</td>\n",
       "      <td>Free entry in 2 a wkly comp to win FA Cup fina...</td>\n",
       "    </tr>\n",
       "    <tr>\n",
       "      <th>3</th>\n",
       "      <td>0</td>\n",
       "      <td>U dun say so early hor U c already then say</td>\n",
       "    </tr>\n",
       "    <tr>\n",
       "      <th>4</th>\n",
       "      <td>0</td>\n",
       "      <td>Nah I dont think he goes to usf he lives aroun...</td>\n",
       "    </tr>\n",
       "  </tbody>\n",
       "</table>\n",
       "</div>"
      ],
      "text/plain": [
       "   v1                                                 v2\n",
       "0   0  Go until jurong point crazy Available only in ...\n",
       "1   0                            Ok lar Joking wif u oni\n",
       "2   1  Free entry in 2 a wkly comp to win FA Cup fina...\n",
       "3   0        U dun say so early hor U c already then say\n",
       "4   0  Nah I dont think he goes to usf he lives aroun..."
      ]
     },
     "execution_count": 26,
     "metadata": {},
     "output_type": "execute_result"
    }
   ],
   "source": [
    "df_train['v1'] = df_train['v1'].map({'ham': 0, 'spam': 1})\n",
    "df_train.head()"
   ]
  },
  {
   "cell_type": "code",
   "execution_count": 27,
   "id": "f23335e3",
   "metadata": {},
   "outputs": [
    {
     "data": {
      "text/plain": [
       "v1    0\n",
       "v2    0\n",
       "dtype: int64"
      ]
     },
     "execution_count": 27,
     "metadata": {},
     "output_type": "execute_result"
    }
   ],
   "source": [
    "df_train.isna().sum()"
   ]
  },
  {
   "cell_type": "markdown",
   "id": "82337230",
   "metadata": {},
   "source": [
    "## Data preprocessing"
   ]
  },
  {
   "cell_type": "markdown",
   "id": "a09dd7d0",
   "metadata": {},
   "source": [
    "### Lower casing"
   ]
  },
  {
   "cell_type": "code",
   "execution_count": 28,
   "id": "817450f4",
   "metadata": {},
   "outputs": [
    {
     "name": "stderr",
     "output_type": "stream",
     "text": [
      "C:\\Users\\Ajinkya\\AppData\\Local\\Temp\\ipykernel_14116\\3660214343.py:1: SettingWithCopyWarning: \n",
      "A value is trying to be set on a copy of a slice from a DataFrame.\n",
      "Try using .loc[row_indexer,col_indexer] = value instead\n",
      "\n",
      "See the caveats in the documentation: https://pandas.pydata.org/pandas-docs/stable/user_guide/indexing.html#returning-a-view-versus-a-copy\n",
      "  df_train['v2'] = df_train['v2'].str.lower()\n"
     ]
    }
   ],
   "source": [
    "df_train['v2'] = df_train['v2'].str.lower()"
   ]
  },
  {
   "cell_type": "markdown",
   "id": "6cfa9230",
   "metadata": {},
   "source": [
    "### Remove URL"
   ]
  },
  {
   "cell_type": "code",
   "execution_count": 29,
   "id": "db41a89d",
   "metadata": {},
   "outputs": [
    {
     "name": "stderr",
     "output_type": "stream",
     "text": [
      "C:\\Users\\Ajinkya\\AppData\\Local\\Temp\\ipykernel_14116\\1657883315.py:5: SettingWithCopyWarning: \n",
      "A value is trying to be set on a copy of a slice from a DataFrame.\n",
      "Try using .loc[row_indexer,col_indexer] = value instead\n",
      "\n",
      "See the caveats in the documentation: https://pandas.pydata.org/pandas-docs/stable/user_guide/indexing.html#returning-a-view-versus-a-copy\n",
      "  df_train['v2'] = df_train['v2'].apply(lambda x: remove_url(x))\n"
     ]
    }
   ],
   "source": [
    "def remove_url(text):\n",
    "    pattern = re.compile(r'https?://\\S+|www\\.\\S+')\n",
    "    return pattern.sub(r'', text)\n",
    "\n",
    "df_train['v2'] = df_train['v2'].apply(lambda x: remove_url(x))"
   ]
  },
  {
   "cell_type": "markdown",
   "id": "ab492156",
   "metadata": {},
   "source": [
    "### Remove punctuations"
   ]
  },
  {
   "cell_type": "code",
   "execution_count": 30,
   "id": "234c9eda",
   "metadata": {},
   "outputs": [
    {
     "name": "stderr",
     "output_type": "stream",
     "text": [
      "C:\\Users\\Ajinkya\\AppData\\Local\\Temp\\ipykernel_14116\\2118598232.py:5: SettingWithCopyWarning: \n",
      "A value is trying to be set on a copy of a slice from a DataFrame.\n",
      "Try using .loc[row_indexer,col_indexer] = value instead\n",
      "\n",
      "See the caveats in the documentation: https://pandas.pydata.org/pandas-docs/stable/user_guide/indexing.html#returning-a-view-versus-a-copy\n",
      "  df_train['v2']  = df_train['v2'].apply(lambda x: remove_punc(x))\n"
     ]
    }
   ],
   "source": [
    "def remove_punc(text):\n",
    "    return text.translate(str.maketrans('','',exclude))\n",
    "\n",
    "exclude = string.punctuation\n",
    "df_train['v2']  = df_train['v2'].apply(lambda x: remove_punc(x))"
   ]
  },
  {
   "cell_type": "markdown",
   "id": "ac46951d",
   "metadata": {},
   "source": [
    "### Remove digits"
   ]
  },
  {
   "cell_type": "code",
   "execution_count": 31,
   "id": "7ddaf48b",
   "metadata": {},
   "outputs": [
    {
     "name": "stderr",
     "output_type": "stream",
     "text": [
      "C:\\Users\\Ajinkya\\AppData\\Local\\Temp\\ipykernel_14116\\1857655400.py:1: SettingWithCopyWarning: \n",
      "A value is trying to be set on a copy of a slice from a DataFrame.\n",
      "Try using .loc[row_indexer,col_indexer] = value instead\n",
      "\n",
      "See the caveats in the documentation: https://pandas.pydata.org/pandas-docs/stable/user_guide/indexing.html#returning-a-view-versus-a-copy\n",
      "  df_train['v2']  = df_train['v2'].apply(lambda text: re.sub(r'\\d+', '', text))\n"
     ]
    }
   ],
   "source": [
    "df_train['v2']  = df_train['v2'].apply(lambda text: re.sub(r'\\d+', '', text))"
   ]
  },
  {
   "cell_type": "markdown",
   "id": "b0348143",
   "metadata": {},
   "source": [
    "### Remove stopwords"
   ]
  },
  {
   "cell_type": "code",
   "execution_count": 32,
   "id": "0d95a31d",
   "metadata": {},
   "outputs": [
    {
     "name": "stderr",
     "output_type": "stream",
     "text": [
      "[nltk_data] Downloading package stopwords to\n",
      "[nltk_data]     C:\\Users\\Ajinkya\\AppData\\Roaming\\nltk_data...\n",
      "[nltk_data]   Package stopwords is already up-to-date!\n",
      "C:\\Users\\Ajinkya\\AppData\\Local\\Temp\\ipykernel_14116\\3987456833.py:17: SettingWithCopyWarning: \n",
      "A value is trying to be set on a copy of a slice from a DataFrame.\n",
      "Try using .loc[row_indexer,col_indexer] = value instead\n",
      "\n",
      "See the caveats in the documentation: https://pandas.pydata.org/pandas-docs/stable/user_guide/indexing.html#returning-a-view-versus-a-copy\n",
      "  df_train['v2'] = df_train['v2'].apply(lambda x: remove_stopwords(x))\n"
     ]
    }
   ],
   "source": [
    "nltk.download('stopwords')\n",
    "\n",
    "from nltk.corpus import stopwords\n",
    "english_stopwords = stopwords.words('english')\n",
    "\n",
    "def remove_stopwords(text):\n",
    "    new_text=[]\n",
    "    for word in text.split():\n",
    "        if word in english_stopwords:\n",
    "            new_text.append('')\n",
    "        else:\n",
    "            new_text.append(word)\n",
    "    x = new_text[:]\n",
    "    new_text.clear()\n",
    "    return \" \".join(x)\n",
    "   \n",
    "df_train['v2'] = df_train['v2'].apply(lambda x: remove_stopwords(x))"
   ]
  },
  {
   "cell_type": "code",
   "execution_count": 33,
   "id": "e1016c44",
   "metadata": {},
   "outputs": [
    {
     "data": {
      "text/plain": [
       "0       go  jurong point crazy available   bugis n gre...\n",
       "1                                 ok lar joking wif u oni\n",
       "2       free entry   wkly comp  win fa cup final tkts ...\n",
       "3                   u dun say  early hor u c already  say\n",
       "4        nah  dont think  goes  usf  lives around  though\n",
       "                              ...                        \n",
       "5567       nd time   tried contact u u    å£ pound pri...\n",
       "5568                         ì b going  esplanade fr home\n",
       "5569                     pity   mood   soany  suggestions\n",
       "5570     guy   bitching   acted like id  interested  b...\n",
       "5571                                    rofl  true   name\n",
       "Name: v2, Length: 5169, dtype: object"
      ]
     },
     "execution_count": 33,
     "metadata": {},
     "output_type": "execute_result"
    }
   ],
   "source": [
    "df_train['v2']"
   ]
  },
  {
   "cell_type": "code",
   "execution_count": 55,
   "id": "e8f183d1",
   "metadata": {},
   "outputs": [],
   "source": [
    "X_train = df_train['v2']"
   ]
  },
  {
   "cell_type": "code",
   "execution_count": 56,
   "id": "7064b8d8",
   "metadata": {},
   "outputs": [],
   "source": [
    "y_train = df_train['v1']  "
   ]
  },
  {
   "cell_type": "code",
   "execution_count": 57,
   "id": "290823fc",
   "metadata": {},
   "outputs": [],
   "source": [
    "from sklearn.preprocessing import LabelEncoder\n",
    "\n",
    "encoder = LabelEncoder()\n",
    "\n",
    "y_train = encoder.fit_transform(y_train)"
   ]
  },
  {
   "cell_type": "code",
   "execution_count": 58,
   "id": "eb52799f",
   "metadata": {},
   "outputs": [
    {
     "data": {
      "text/plain": [
       "array([0, 0, 1, ..., 0, 0, 0], dtype=int64)"
      ]
     },
     "execution_count": 58,
     "metadata": {},
     "output_type": "execute_result"
    }
   ],
   "source": [
    "y_train"
   ]
  },
  {
   "cell_type": "code",
   "execution_count": 59,
   "id": "bc9a24d4",
   "metadata": {},
   "outputs": [],
   "source": [
    "X_train, X_test, y_train, y_test = train_test_split(X_train, y_train, test_size=0.2, random_state=42)"
   ]
  },
  {
   "cell_type": "code",
   "execution_count": 60,
   "id": "8c372889",
   "metadata": {},
   "outputs": [
    {
     "data": {
      "text/plain": [
       "((4135,), (1034,), (4135,), (1034,))"
      ]
     },
     "execution_count": 60,
     "metadata": {},
     "output_type": "execute_result"
    }
   ],
   "source": [
    "X_train.shape,X_test.shape,y_train.shape, y_test.shape"
   ]
  },
  {
   "cell_type": "markdown",
   "id": "ca3fb780",
   "metadata": {},
   "source": [
    "## Feature Extraction - TFIDF"
   ]
  },
  {
   "cell_type": "code",
   "execution_count": 61,
   "id": "7ba8fa4c",
   "metadata": {},
   "outputs": [],
   "source": [
    "from sklearn.feature_extraction.text import TfidfVectorizer\n",
    "\n",
    "tfidf = TfidfVectorizer()\n",
    "X_train_tfidf = tfidf.fit_transform(X_train).toarray()\n",
    "X_test_tfidf = tfidf.transform(X_test)"
   ]
  },
  {
   "cell_type": "code",
   "execution_count": 63,
   "id": "16e5db18",
   "metadata": {},
   "outputs": [
    {
     "data": {
      "text/plain": [
       "(4135, 7398)"
      ]
     },
     "execution_count": 63,
     "metadata": {},
     "output_type": "execute_result"
    }
   ],
   "source": [
    "X_train_tfidf.shape"
   ]
  },
  {
   "cell_type": "markdown",
   "id": "9e8881af",
   "metadata": {},
   "source": [
    "## Model fitting - GridSearchCV Logistic Regression (Before applying SMOTE)\n",
    "\n",
    "* {'C': 100, 'max_iter': 100, 'penalty': 'l2', 'solver': 'saga'} Hyper-params after experimentation\n",
    "* Accuracy = 0.9787\n",
    "* Precision = 0.9556\n",
    "* Recall = 0.8897\n",
    "* F1 Score = 0.9214\n"
   ]
  },
  {
   "cell_type": "code",
   "execution_count": 76,
   "id": "93911aa4",
   "metadata": {},
   "outputs": [
    {
     "name": "stdout",
     "output_type": "stream",
     "text": [
      "Fitting 5 folds for each of 1 candidates, totalling 5 fits\n"
     ]
    }
   ],
   "source": [
    "from sklearn.model_selection import GridSearchCV\n",
    "from sklearn.linear_model import LogisticRegression\n",
    "\n",
    "log_reg_grid = {\n",
    "    'penalty': ['l2'],\n",
    "    'C': [100],\n",
    "    'solver': ['saga'],\n",
    "    'max_iter': [1000],\n",
    "}\n",
    "\n",
    "# Setup grid Hyperparamter search for logistic Regression()\n",
    "log_reg_gs = GridSearchCV(LogisticRegression(),\n",
    "                         param_grid=log_reg_grid,\n",
    "                         cv=5,\n",
    "                         verbose = True,\n",
    "                         n_jobs=-1)\n",
    "\n",
    "#Fit our grid Hyperparameter search model\n",
    "log_reg_gs.fit(X_train_tfidf, y_train)\n",
    "\n",
    "# Make predictions\n",
    "y_pred = log_reg_gs.predict(X_test_tfidf)"
   ]
  },
  {
   "cell_type": "code",
   "execution_count": 68,
   "id": "081bb332",
   "metadata": {},
   "outputs": [
    {
     "data": {
      "text/plain": [
       "{'C': 100, 'max_iter': 100, 'penalty': 'l2', 'solver': 'saga'}"
      ]
     },
     "execution_count": 68,
     "metadata": {},
     "output_type": "execute_result"
    }
   ],
   "source": [
    "#log_reg_gs.best_params_"
   ]
  },
  {
   "cell_type": "markdown",
   "id": "150f4307",
   "metadata": {},
   "source": [
    "## Results - Logistic Regression on imblanaced data (TF-IDF)"
   ]
  },
  {
   "cell_type": "code",
   "execution_count": 80,
   "id": "7642194b",
   "metadata": {},
   "outputs": [],
   "source": [
    "from sklearn.metrics import accuracy_score\n",
    "accuracy_lr_tf = accuracy_score(y_test,y_pred)"
   ]
  },
  {
   "cell_type": "code",
   "execution_count": 86,
   "id": "5b450e54",
   "metadata": {},
   "outputs": [
    {
     "name": "stdout",
     "output_type": "stream",
     "text": [
      "Accuracy = 0.9787\n",
      "Precision = 0.9556\n",
      "Recall = 0.8897\n",
      "F1 Score = 0.9214\n"
     ]
    }
   ],
   "source": [
    "from sklearn.metrics import (\n",
    "    precision_score,\n",
    "    recall_score,\n",
    "    f1_score\n",
    ")\n",
    "\n",
    "precision_lr_tf = precision_score(y_test, y_pred)\n",
    "recall_lr_tf = recall_score(y_test, y_pred)\n",
    "f1score_lr_tf = f1_score(y_test, y_pred)\n",
    "\n",
    "print(f\"Accuracy = {accuracy_lr_tf.round(4)}\")\n",
    "print(f\"Precision = {precision_lr_tf.round(4)}\")\n",
    "print(f\"Recall = {recall_lr_tf.round(4)}\")\n",
    "print(f\"F1 Score = {f1score_lr_tf.round(4)}\")"
   ]
  },
  {
   "cell_type": "markdown",
   "id": "6e6630c2",
   "metadata": {},
   "source": [
    "### Applying SMOTE"
   ]
  },
  {
   "cell_type": "code",
   "execution_count": 79,
   "id": "6a6e25df",
   "metadata": {},
   "outputs": [],
   "source": [
    "from imblearn.over_sampling import SMOTE\n",
    "smote = SMOTE(random_state=42)\n",
    "X_train_resampled, y_train_resampled = smote.fit_resample(X_train_tfidf, y_train)"
   ]
  },
  {
   "cell_type": "markdown",
   "id": "6ce4eb8b",
   "metadata": {},
   "source": [
    "## Model fitting - GridSearchCV Logistic Regression (After applying SMOTE)\n",
    "* Accuracy = 0.9797\n",
    "* Precision = 0.9429\n",
    "* Recall = 0.9103\n",
    "* F1 Score = 0.9263"
   ]
  },
  {
   "cell_type": "code",
   "execution_count": 88,
   "id": "3142bf16",
   "metadata": {},
   "outputs": [
    {
     "name": "stdout",
     "output_type": "stream",
     "text": [
      "Fitting 5 folds for each of 1 candidates, totalling 5 fits\n"
     ]
    }
   ],
   "source": [
    "log_reg_grid = {\n",
    "    'penalty': ['l2'],\n",
    "    'C': [100],\n",
    "    'solver': ['saga'],\n",
    "    'max_iter': [1000],\n",
    "}\n",
    "\n",
    "# Setup grid Hyperparamter search for logistic Regression()\n",
    "log_reg_gs = GridSearchCV(LogisticRegression(),\n",
    "                         param_grid=log_reg_grid,\n",
    "                         cv=5,\n",
    "                         verbose = True,\n",
    "                         n_jobs=-1)\n",
    "\n",
    "#Fit our grid Hyperparameter search model\n",
    "log_reg_gs.fit(X_train_resampled, y_train_resampled)\n",
    "\n",
    "# Make predictions\n",
    "y_pred = log_reg_gs.predict(X_test_tfidf)"
   ]
  },
  {
   "cell_type": "markdown",
   "id": "af1ee891",
   "metadata": {},
   "source": [
    "## Results - Logistic Regression on balanced data (TF-IDF)"
   ]
  },
  {
   "cell_type": "code",
   "execution_count": 89,
   "id": "1f1074ad",
   "metadata": {},
   "outputs": [],
   "source": [
    "from sklearn.metrics import accuracy_score\n",
    "accuracy_lr_tf_smote = accuracy_score(y_test,y_pred)"
   ]
  },
  {
   "cell_type": "code",
   "execution_count": 90,
   "id": "4c705a14",
   "metadata": {},
   "outputs": [
    {
     "name": "stdout",
     "output_type": "stream",
     "text": [
      "Accuracy = 0.9797\n",
      "Precision = 0.9429\n",
      "Recall = 0.9103\n",
      "F1 Score = 0.9263\n"
     ]
    }
   ],
   "source": [
    "\n",
    "precision_lr_tf_smote = precision_score(y_test, y_pred)\n",
    "recall_lr_tf_smote = recall_score(y_test, y_pred)\n",
    "f1score_lr_tf_smote = f1_score(y_test, y_pred)\n",
    "\n",
    "print(f\"Accuracy = {accuracy_lr_tf_smote.round(4)}\")\n",
    "print(f\"Precision = {precision_lr_tf_smote.round(4)}\")\n",
    "print(f\"Recall = {recall_lr_tf_smote.round(4)}\")\n",
    "print(f\"F1 Score = {f1score_lr_tf_smote.round(4)}\")"
   ]
  },
  {
   "cell_type": "markdown",
   "id": "7eed9354",
   "metadata": {},
   "source": [
    "## Comparing Logistic Regression (TF-IDF) on Imbalanced and balanced data"
   ]
  },
  {
   "cell_type": "code",
   "execution_count": 92,
   "id": "1fa6dfb7",
   "metadata": {},
   "outputs": [
    {
     "data": {
      "image/png": "[encoded data removed]",
      "text/plain": [
       "<Figure size 1400x1000 with 1 Axes>"
      ]
     },
     "metadata": {},
     "output_type": "display_data"
    }
   ],
   "source": [
    "import matplotlib.pyplot as plt\n",
    "import numpy as np\n",
    "\n",
    "# Define metrics and values\n",
    "metrics_names = ['Accuracy', 'Precision', 'Recall', 'F1 Score']\n",
    "imb_values = [accuracy_lr_tf, precision_lr_tf, recall_lr_tf, f1score_lr_tf]\n",
    "bal_values = [accuracy_lr_tf_smote, precision_lr_tf_smote, recall_lr_tf_smote, f1score_lr_tf_smote]\n",
    "\n",
    "# Create bar width and positions\n",
    "bar_width = 0.35\n",
    "index = np.arange(len(metrics_names))\n",
    "\n",
    "# Plotting the bars\n",
    "fig, ax = plt.subplots(figsize=(14, 10))\n",
    "bars1 = ax.bar(index, imb_values, bar_width, label='Imb-data')\n",
    "bars2 = ax.bar(index + bar_width, bal_values, bar_width, label='Bal-data-SMOTE')\n",
    "\n",
    "# Adding labels and title\n",
    "ax.set_xlabel('Metrics')\n",
    "ax.set_ylabel('Scores')\n",
    "ax.set_title('Comparison of Logistic Regression Performance Metrics')\n",
    "ax.set_xticks(index + bar_width / 2)\n",
    "ax.set_xticklabels(metrics_names)\n",
    "ax.legend()\n",
    "\n",
    "# Display the plot\n",
    "plt.show()"
   ]
  },
  {
   "cell_type": "markdown",
   "id": "d3280e7c",
   "metadata": {},
   "source": [
    "# Conclusion\n",
    "* After balancing the data, Logistic regression slightly performs better"
   ]
  }
 ],
 "metadata": {
  "kernelspec": {
   "display_name": "Python 3 (ipykernel)",
   "language": "python",
   "name": "python3"
  },
  "language_info": {
   "codemirror_mode": {
    "name": "ipython",
    "version": 3
   },
   "file_extension": ".py",
   "mimetype": "text/x-python",
   "name": "python",
   "nbconvert_exporter": "python",
   "pygments_lexer": "ipython3",
   "version": "3.10.5"
  }
 },
 "nbformat": 4,
 "nbformat_minor": 5
}
